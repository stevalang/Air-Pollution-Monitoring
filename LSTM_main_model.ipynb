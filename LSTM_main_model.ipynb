{
 "cells": [
  {
   "cell_type": "code",
   "execution_count": 1,
   "id": "e1a7fba4",
   "metadata": {},
   "outputs": [
    {
     "data": {
      "text/plain": [
       "'\\n@Author: Stefan Angelov\\n@Created: 04/23/2021\\n@Purpose: Predicting the air pollution\\n'"
      ]
     },
     "execution_count": 1,
     "metadata": {},
     "output_type": "execute_result"
    }
   ],
   "source": [
    "'''\n",
    "@Author: Stefan Angelov\n",
    "@Created: 04/23/2021\n",
    "@Purpose: Predicting the air pollution\n",
    "'''"
   ]
  },
  {
   "cell_type": "code",
   "execution_count": 3,
   "id": "a3fae5bd",
   "metadata": {},
   "outputs": [],
   "source": [
    "from src.data_preprocessing import *\n",
    "from src.model_training import *\n",
    "\n",
    "import warnings\n",
    "warnings.filterwarnings('ignore')"
   ]
  },
  {
   "cell_type": "markdown",
   "id": "b747faf3",
   "metadata": {},
   "source": [
    "# Data Cleaning and Pre Processing"
   ]
  },
  {
   "cell_type": "code",
   "execution_count": 4,
   "id": "64c8177b",
   "metadata": {},
   "outputs": [
    {
     "name": "stdout",
     "output_type": "stream",
     "text": [
      "   No  year  month  day  hour  PM2.5  PM10   SO2   NO2     CO    O3  TEMP  \\\n",
      "0   1  2013      3    1     0    4.0   4.0   4.0   7.0  300.0  77.0  -0.7   \n",
      "1   2  2013      3    1     1    8.0   8.0   4.0   7.0  300.0  77.0  -1.1   \n",
      "2   3  2013      3    1     2    7.0   7.0   5.0  10.0  300.0  73.0  -1.1   \n",
      "3   4  2013      3    1     3    6.0   6.0  11.0  11.0  300.0  72.0  -1.4   \n",
      "4   5  2013      3    1     4    3.0   3.0  12.0  12.0  300.0  72.0  -2.0   \n",
      "\n",
      "     PRES  DEWP  RAIN   wd  WSPM       station  \n",
      "0  1023.0 -18.8   0.0  NNW   4.4  Aotizhongxin  \n",
      "1  1023.2 -18.2   0.0    N   4.7  Aotizhongxin  \n",
      "2  1023.5 -18.2   0.0  NNW   5.6  Aotizhongxin  \n",
      "3  1024.5 -19.4   0.0   NW   3.1  Aotizhongxin  \n",
      "4  1025.2 -19.5   0.0    N   2.0  Aotizhongxin  \n"
     ]
    }
   ],
   "source": [
    "df = load_dataset()\n",
    "df = datetime_index_column(df)\n",
    "df = df[wanted_col]\n",
    "cleaned_df = df.interpolate()\n",
    "del df\n",
    "df_list = data_frames(cleaned_df)\n",
    "\n",
    "df_PM25, df_PM10, df_SO2, df_NO2, df_CO, df_O3 = resample_data(df_list)\n",
    "dfm_PM25, dfm_PM10, dfm_SO2, dfm_NO2, dfm_CO, dfm_O3 = resample_data(df_list, freq = 'MS')\n",
    "\n",
    "df_list = [df_PM25, df_PM10, df_SO2, df_NO2, df_CO, df_O3]\n",
    "dfm_list = [dfm_PM25, dfm_PM10, dfm_SO2, dfm_NO2, dfm_CO, dfm_O3]\n",
    "\n",
    "dtrain_test_list = train_test_split(df_list)\n",
    "mtrain_test_list = train_test_split(dfm_list)\n",
    "\n",
    "save_train_test_data(dtrain_test_list, dtrain_dir, dtest_dir)\n",
    "save_train_test_data(mtrain_test_list, mtrain_dir, mtest_dir)"
   ]
  },
  {
   "cell_type": "markdown",
   "id": "3908b792",
   "metadata": {},
   "source": [
    "# LSTM Univariate Time Series Forecasting Model"
   ]
  },
  {
   "cell_type": "code",
   "execution_count": 7,
   "id": "2fd046dd",
   "metadata": {},
   "outputs": [],
   "source": [
    "train_PM25 = pd.read_csv('dataset/daily/train/train_PM2.5.csv', parse_dates = [0], index_col = [0])\n",
    "test_PM25 = pd.read_csv('dataset/daily/test/test_PM2.5.csv', parse_dates = [0], index_col = [0])\n",
    "\n",
    "scaled_train_PM25, scaler = transform_data(train_PM25)\n",
    "\n",
    "time_steps = 365\n",
    "n_feature = 1\n",
    "model = fit_LSTM(scaled_train_PM25, time_steps, n_feature)\n"
   ]
  },
  {
   "cell_type": "code",
   "execution_count": null,
   "id": "cb8ccc2a",
   "metadata": {},
   "outputs": [],
   "source": [
    "predictions = predict_LSTM(scaled_train_PM25, scaler, train_PM25, test_PM25,time_steps, n_feature, model)"
   ]
  },
  {
   "cell_type": "markdown",
   "id": "ccdf1df3",
   "metadata": {},
   "source": [
    "# LSTM Multivariate Time Series Forecasting Model"
   ]
  },
  {
   "cell_type": "code",
   "execution_count": 6,
   "id": "875ba0b3",
   "metadata": {},
   "outputs": [
    {
     "name": "stdout",
     "output_type": "stream",
     "text": [
      "Epoch 1/10\n",
      "122/122 [==============================] - 37s 294ms/step - loss: 0.0303\n",
      "Epoch 2/10\n",
      "122/122 [==============================] - 37s 303ms/step - loss: 0.0170\n",
      "Epoch 3/10\n",
      "122/122 [==============================] - 36s 291ms/step - loss: 0.0172\n",
      "Epoch 4/10\n",
      "122/122 [==============================] - 36s 293ms/step - loss: 0.0154\n",
      "Epoch 5/10\n",
      "122/122 [==============================] - 36s 292ms/step - loss: 0.0147\n",
      "Epoch 6/10\n",
      "122/122 [==============================] - 37s 305ms/step - loss: 0.0156\n",
      "Epoch 7/10\n",
      "122/122 [==============================] - 37s 303ms/step - loss: 0.0144\n",
      "Epoch 8/10\n",
      "122/122 [==============================] - 37s 306ms/step - loss: 0.0134\n",
      "Epoch 9/10\n",
      "122/122 [==============================] - 37s 299ms/step - loss: 0.0112\n",
      "Epoch 10/10\n",
      "122/122 [==============================] - 38s 310ms/step - loss: 0.0162\n"
     ]
    }
   ],
   "source": [
    "train_PM25 = pd.read_csv('dataset/daily/train/train_PM2.5.csv', parse_dates = [0], index_col = [0])\n",
    "test_PM25 = pd.read_csv('dataset/daily/test/test_PM2.5.csv', parse_dates = [0], index_col = [0])\n",
    "train_PM10 = pd.read_csv('dataset/daily/train/train_PM10.csv', parse_dates = [0], index_col = [0])\n",
    "test_PM10 = pd.read_csv('dataset/daily/test/test_PM10.csv', parse_dates = [0], index_col = [0])\n",
    "train_SO2 = pd.read_csv('dataset/daily/train/train_SO2.csv', parse_dates = [0], index_col = [0])\n",
    "test_SO2 = pd.read_csv('dataset/daily/test/test_SO2.csv', parse_dates = [0], index_col = [0])\n",
    "train_NO2 = pd.read_csv('dataset/daily/train/train_NO2.csv', parse_dates = [0], index_col = [0])\n",
    "test_NO2 = pd.read_csv('dataset/daily/test/test_NO2.csv', parse_dates = [0], index_col = [0])\n",
    "train_CO = pd.read_csv('dataset/daily/train/train_CO.csv', parse_dates = [0], index_col = [0])\n",
    "test_CO = pd.read_csv('dataset/daily/test/test_CO.csv', parse_dates = [0], index_col = [0])\n",
    "train_O3 = pd.read_csv('dataset/daily/train/train_O3.csv', parse_dates = [0], index_col = [0])\n",
    "test_O3 = pd.read_csv('dataset/daily/test/test_O3.csv', parse_dates = [0], index_col = [0])\n",
    "\n",
    "list_test = [test_PM25, test_PM10, test_SO2, test_NO2, test_CO, test_O3]\n",
    "list_train = [train_PM25, train_PM10, train_SO2, train_NO2, train_CO, train_O3]\n",
    "\n",
    "scaled_train_PM25, scaler = transform_data(train_PM25)\n",
    "scaled_train_PM10, scaler = transform_data(train_PM10)\n",
    "scaled_train_SO2, scaler = transform_data(train_SO2)\n",
    "scaled_train_NO2, scaler = transform_data(train_NO2)\n",
    "scaled_train_CO, scaler = transform_data(train_CO)\n",
    "scaled_train_PM10, scaler = transform_data(train_PM10)\n",
    "scaled_train_O3, scaler = transform_data(train_O3)\n",
    "\n",
    "\n",
    "list_scaled_train = [scaled_train_PM25, scaled_train_PM10, scaled_train_SO2, scaled_train_NO2,\n",
    " scaled_train_CO, scaled_train_O3]\n",
    "\n",
    "all_attributes = []\n",
    "joined_element = []\n",
    "\n",
    "for i in range(0, len(scaled_train_O3)):\n",
    "    for j in range(0, len(list_scaled_train)):\n",
    "        joined_element = np.append(joined_element, list_scaled_train[j][i])\n",
    "    all_attributes.append(joined_element)\n",
    "    joined_element = []\n",
    "\n",
    "time_steps = 365\n",
    "n_feature = 6\n",
    "model = fit_LSTM(np.array(all_attributes), time_steps, n_feature)\n",
    "\n",
    "model.save('trained_model.h5', model)\n",
    "\n",
    "# model = tf.keras.models.load_model('trained_model.h5')"
   ]
  },
  {
   "cell_type": "code",
   "execution_count": null,
   "id": "bcd43ded",
   "metadata": {},
   "outputs": [],
   "source": []
  }
 ],
 "metadata": {
  "kernelspec": {
   "display_name": "Python 3",
   "language": "python",
   "name": "python3"
  },
  "language_info": {
   "codemirror_mode": {
    "name": "ipython",
    "version": 3
   },
   "file_extension": ".py",
   "mimetype": "text/x-python",
   "name": "python",
   "nbconvert_exporter": "python",
   "pygments_lexer": "ipython3",
   "version": "3.8.8"
  }
 },
 "nbformat": 4,
 "nbformat_minor": 5
}
