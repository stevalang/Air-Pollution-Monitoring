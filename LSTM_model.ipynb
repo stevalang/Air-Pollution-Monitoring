{
 "cells": [
  {
   "cell_type": "code",
   "execution_count": 4,
   "id": "59cb167a",
   "metadata": {},
   "outputs": [],
   "source": [
    "from data_preprocessing import *\n",
    "from model_training import *"
   ]
  },
  {
   "cell_type": "code",
   "execution_count": 5,
   "id": "9a66e023",
   "metadata": {},
   "outputs": [
    {
     "name": "stdout",
     "output_type": "stream",
     "text": [
      "   No  year  month  day  hour  PM2.5  PM10   SO2   NO2     CO    O3  TEMP  \\\n",
      "0   1  2013      3    1     0    4.0   4.0   4.0   7.0  300.0  77.0  -0.7   \n",
      "1   2  2013      3    1     1    8.0   8.0   4.0   7.0  300.0  77.0  -1.1   \n",
      "2   3  2013      3    1     2    7.0   7.0   5.0  10.0  300.0  73.0  -1.1   \n",
      "3   4  2013      3    1     3    6.0   6.0  11.0  11.0  300.0  72.0  -1.4   \n",
      "4   5  2013      3    1     4    3.0   3.0  12.0  12.0  300.0  72.0  -2.0   \n",
      "\n",
      "     PRES  DEWP  RAIN   wd  WSPM       station  \n",
      "0  1023.0 -18.8   0.0  NNW   4.4  Aotizhongxin  \n",
      "1  1023.2 -18.2   0.0    N   4.7  Aotizhongxin  \n",
      "2  1023.5 -18.2   0.0  NNW   5.6  Aotizhongxin  \n",
      "3  1024.5 -19.4   0.0   NW   3.1  Aotizhongxin  \n",
      "4  1025.2 -19.5   0.0    N   2.0  Aotizhongxin  \n"
     ]
    }
   ],
   "source": [
    "df = load_dataset()\n",
    "df = datetime_index_column(df)\n",
    "df = df[wanted_col]\n",
    "cleaned_df = df.interpolate()\n",
    "del df\n",
    "df_list = data_frames(cleaned_df)\n",
    "\n",
    "df_PM25, df_PM10, df_SO2, df_NO2, df_CO, df_O3 = resample_data(df_list)\n",
    "dfm_PM25, dfm_PM10, dfm_SO2, dfm_NO2, dfm_CO, dfm_O3 = resample_data(df_list, freq = 'MS')\n",
    "\n",
    "df_list = [df_PM25, df_PM10, df_SO2, df_NO2, df_CO, df_O3]\n",
    "dfm_list = [dfm_PM25, dfm_PM10, dfm_SO2, dfm_NO2, dfm_CO, dfm_O3]\n",
    "\n",
    "dtrain_test_list = train_test_split(df_list)\n",
    "mtrain_test_list = train_test_split(dfm_list)\n",
    "\n",
    "save_train_test_data(dtrain_test_list, dtrain_dir, dtest_dir)\n",
    "save_train_test_data(mtrain_test_list, mtrain_dir, mtest_dir)"
   ]
  },
  {
   "cell_type": "code",
   "execution_count": 6,
   "id": "ec8c7d4e",
   "metadata": {},
   "outputs": [
    {
     "name": "stderr",
     "output_type": "stream",
     "text": [
      "/opt/conda/lib/python3.8/site-packages/tensorflow/python/keras/engine/training.py:1844: UserWarning: `Model.fit_generator` is deprecated and will be removed in a future version. Please use `Model.fit`, which supports generators.\n",
      "  warnings.warn('`Model.fit_generator` is deprecated and '\n"
     ]
    },
    {
     "name": "stdout",
     "output_type": "stream",
     "text": [
      "Epoch 1/10\n",
      "122/122 [==============================] - 37s 301ms/step - loss: 0.0215\n",
      "Epoch 2/10\n",
      "122/122 [==============================] - 37s 305ms/step - loss: 0.0169\n",
      "Epoch 3/10\n",
      "122/122 [==============================] - 36s 295ms/step - loss: 0.0177\n",
      "Epoch 4/10\n",
      "122/122 [==============================] - 36s 298ms/step - loss: 0.0128\n",
      "Epoch 5/10\n",
      "122/122 [==============================] - 36s 299ms/step - loss: 0.0136\n",
      "Epoch 6/10\n",
      "122/122 [==============================] - 36s 296ms/step - loss: 0.0114\n",
      "Epoch 7/10\n",
      "122/122 [==============================] - 35s 290ms/step - loss: 0.0156\n",
      "Epoch 8/10\n",
      "122/122 [==============================] - 36s 294ms/step - loss: 0.0128\n",
      "Epoch 9/10\n",
      "122/122 [==============================] - 37s 303ms/step - loss: 0.0121\n",
      "Epoch 10/10\n",
      "122/122 [==============================] - 38s 309ms/step - loss: 0.0138\n"
     ]
    }
   ],
   "source": [
    "train_PM25 = pd.read_csv('dataset/daily/train/train_PM2.5.csv', parse_dates = [0], index_col = [0])\n",
    "test_PM25 = pd.read_csv('dataset/daily/test/test_PM2.5.csv', parse_dates = [0], index_col = [0])\n",
    "\n",
    "scaled_train_PM25, scaler = transform_data(train_PM25)\n",
    "\n",
    "time_steps = 365\n",
    "n_feature = 1\n",
    "model = fit_LSTM(scaled_train_PM25, time_steps, n_feature)\n",
    "\n",
    "predictions = predict_LSTM(scaled_train_PM25, scaler, train_PM25, test_PM25,time_steps, n_feature, model)"
   ]
  },
  {
   "cell_type": "code",
   "execution_count": null,
   "id": "4bbd92e2",
   "metadata": {},
   "outputs": [],
   "source": []
  }
 ],
 "metadata": {
  "kernelspec": {
   "display_name": "Python 3",
   "language": "python",
   "name": "python3"
  },
  "language_info": {
   "codemirror_mode": {
    "name": "ipython",
    "version": 3
   },
   "file_extension": ".py",
   "mimetype": "text/x-python",
   "name": "python",
   "nbconvert_exporter": "python",
   "pygments_lexer": "ipython3",
   "version": "3.8.8"
  }
 },
 "nbformat": 4,
 "nbformat_minor": 5
}
