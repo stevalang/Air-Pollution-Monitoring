{
 "cells": [
  {
   "cell_type": "code",
   "execution_count": 15,
   "id": "8fe1cff5",
   "metadata": {},
   "outputs": [
    {
     "data": {
      "text/plain": [
       "'\\n@Author: Stefan Angelov\\n@Created: 04/23/2021\\n@Purpose: Predicting the air pollution\\n'"
      ]
     },
     "execution_count": 15,
     "metadata": {},
     "output_type": "execute_result"
    }
   ],
   "source": [
    "'''\n",
    "@Author: Stefan Angelov\n",
    "@Created: 04/23/2021\n",
    "@Purpose: Predicting the air pollution\n",
    "'''"
   ]
  },
  {
   "cell_type": "code",
   "execution_count": 1,
   "id": "1d11234e",
   "metadata": {},
   "outputs": [],
   "source": [
    "from data_preprocessing import *\n",
    "from model_training import *\n",
    "\n",
    "import warnings\n",
    "warnings.filterwarnings('ignore')"
   ]
  },
  {
   "cell_type": "markdown",
   "id": "6c93aaf8",
   "metadata": {},
   "source": [
    "# Data Cleaning and Pre Processing"
   ]
  },
  {
   "cell_type": "code",
   "execution_count": null,
   "id": "d5c64916",
   "metadata": {},
   "outputs": [],
   "source": [
    "df = load_dataset()\n",
    "df = datetime_index_column(df)\n",
    "df = df[wanted_col]\n",
    "cleaned_df = df.interpolate()\n",
    "del df\n",
    "df_list = data_frames(cleaned_df)\n",
    "\n",
    "df_PM25, df_PM10, df_SO2, df_NO2, df_CO, df_O3 = resample_data(df_list)\n",
    "dfm_PM25, dfm_PM10, dfm_SO2, dfm_NO2, dfm_CO, dfm_O3 = resample_data(df_list, freq = 'MS')\n",
    "\n",
    "df_list = [df_PM25, df_PM10, df_SO2, df_NO2, df_CO, df_O3]\n",
    "dfm_list = [dfm_PM25, dfm_PM10, dfm_SO2, dfm_NO2, dfm_CO, dfm_O3]\n",
    "\n",
    "dtrain_test_list = train_test_split(df_list)\n",
    "mtrain_test_list = train_test_split(dfm_list)\n",
    "\n",
    "save_train_test_data(dtrain_test_list, dtrain_dir, dtest_dir)\n",
    "save_train_test_data(mtrain_test_list, mtrain_dir, mtest_dir)"
   ]
  },
  {
   "cell_type": "markdown",
   "id": "b204c76c",
   "metadata": {},
   "source": [
    "# LSTM Univariate Time Series Forecasting Model"
   ]
  },
  {
   "cell_type": "code",
   "execution_count": null,
   "id": "aa2c361c",
   "metadata": {},
   "outputs": [],
   "source": [
    "train_PM25 = pd.read_csv('dataset/daily/train/train_PM2.5.csv', parse_dates = [0], index_col = [0])\n",
    "test_PM25 = pd.read_csv('dataset/daily/test/test_PM2.5.csv', parse_dates = [0], index_col = [0])\n",
    "\n",
    "scaled_train_PM25, scaler = transform_data(train_PM25)\n",
    "\n",
    "time_steps = 365\n",
    "n_feature = 1\n",
    "model = fit_LSTM(scaled_train_PM25, time_steps, n_feature)\n",
    "\n",
    "predictions = predict_LSTM(scaled_train_PM25, scaler, train_PM25, test_PM25,time_steps, n_feature, model)"
   ]
  },
  {
   "cell_type": "markdown",
   "id": "13f19c6f",
   "metadata": {},
   "source": [
    "# LSTM Multivariate Time Series Forecasting Model"
   ]
  },
  {
   "cell_type": "code",
   "execution_count": null,
   "id": "73564c3c",
   "metadata": {},
   "outputs": [],
   "source": [
    "train_PM25 = pd.read_csv('dataset/daily/train/train_PM2.5.csv', parse_dates = [0], index_col = [0])\n",
    "test_PM25 = pd.read_csv('dataset/daily/test/test_PM2.5.csv', parse_dates = [0], index_col = [0])\n",
    "train_PM10 = pd.read_csv('dataset/daily/train/train_PM10.csv', parse_dates = [0], index_col = [0])\n",
    "test_PM10 = pd.read_csv('dataset/daily/test/test_PM10.csv', parse_dates = [0], index_col = [0])\n",
    "train_SO2 = pd.read_csv('dataset/daily/train/train_SO2.csv', parse_dates = [0], index_col = [0])\n",
    "test_SO2 = pd.read_csv('dataset/daily/test/test_SO2.csv', parse_dates = [0], index_col = [0])\n",
    "train_NO2 = pd.read_csv('dataset/daily/train/train_NO2.csv', parse_dates = [0], index_col = [0])\n",
    "test_NO2 = pd.read_csv('dataset/daily/test/test_NO2.csv', parse_dates = [0], index_col = [0])\n",
    "train_CO = pd.read_csv('dataset/daily/train/train_CO.csv', parse_dates = [0], index_col = [0])\n",
    "test_CO = pd.read_csv('dataset/daily/test/test_CO.csv', parse_dates = [0], index_col = [0])\n",
    "train_O3 = pd.read_csv('dataset/daily/train/train_O3.csv', parse_dates = [0], index_col = [0])\n",
    "test_O3 = pd.read_csv('dataset/daily/test/test_O3.csv', parse_dates = [0], index_col = [0])\n",
    "\n",
    "list_test = [test_PM25, test_PM10, test_SO2, test_NO2, test_CO, test_O3]\n",
    "list_train = [train_PM25, train_PM10, train_SO2, train_NO2, train_CO, train_O3]\n",
    "\n",
    "scaled_train_PM25, scaler = transform_data(train_PM25)\n",
    "scaled_train_PM10, scaler = transform_data(train_PM10)\n",
    "scaled_train_SO2, scaler = transform_data(train_SO2)\n",
    "scaled_train_NO2, scaler = transform_data(train_NO2)\n",
    "scaled_train_CO, scaler = transform_data(train_CO)\n",
    "scaled_train_PM10, scaler = transform_data(train_PM10)\n",
    "scaled_train_O3, scaler = transform_data(train_O3)\n",
    "\n",
    "\n",
    "list_scaled_train = [scaled_train_PM25, scaled_train_PM10, scaled_train_SO2, scaled_train_NO2,\n",
    " scaled_train_CO, scaled_train_O3]\n",
    "\n",
    "all_attributes = []\n",
    "joined_element = []\n",
    "\n",
    "for i in range(0, len(scaled_train_O3)):\n",
    "    for j in range(0, len(list_scaled_train)):\n",
    "        joined_element = np.append(joined_element, list_scaled_train[j][i])\n",
    "    all_attributes.append(joined_element)\n",
    "    joined_element = []\n",
    "\n",
    "time_steps = 365\n",
    "n_feature = 6\n",
    "model = fit_LSTM(np.array(all_attributes), time_steps, n_feature)\n",
    "\n",
    "model.save('trained_model.h5', model)\n",
    "\n",
    "# model = tf.keras.models.load_model('trained_model.h5')"
   ]
  }
 ],
 "metadata": {
  "kernelspec": {
   "display_name": "Python 3",
   "language": "python",
   "name": "python3"
  },
  "language_info": {
   "codemirror_mode": {
    "name": "ipython",
    "version": 3
   },
   "file_extension": ".py",
   "mimetype": "text/x-python",
   "name": "python",
   "nbconvert_exporter": "python",
   "pygments_lexer": "ipython3",
   "version": "3.8.8"
  }
 },
 "nbformat": 4,
 "nbformat_minor": 5
}
